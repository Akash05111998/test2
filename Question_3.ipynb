{
 "cells": [
  {
   "cell_type": "code",
   "execution_count": 4,
   "metadata": {},
   "outputs": [
    {
     "name": "stdout",
     "output_type": "stream",
     "text": [
      "Average Total and Speed for Type 1 as Poison and Fire with Type 2 as Flying:\n",
      "                    Total      Speed\n",
      "Type 1 Type 2                       \n",
      "Fire   Flying  551.500000  98.333333\n",
      "Poison Flying  411.666667  91.666667\n",
      "\n",
      "Average Total and Speed for Type 1 as Flying with Type 2 as Poison and Fire:\n",
      "Empty DataFrame\n",
      "Columns: [Total, Speed]\n",
      "Index: []\n"
     ]
    }
   ],
   "source": [
    "import pandas as pd\n",
    "import matplotlib.pyplot as plt\n",
    "import logging\n",
    "\n",
    "\n",
    "logging.basicConfig(filename='pokemon_analysis.log', level=logging.INFO, \n",
    "                    format='%(asctime)s:%(levelname)s:%(message)s')\n",
    "\n",
    "def analyze_pokemon_data(file_path):\n",
    "    try:\n",
    "        \n",
    "        df = pd.read_csv(file_path)\n",
    "        logging.info('CSV file read successfully.')\n",
    "\n",
    "\n",
    "        \n",
    "        poison_fire_flying = df[(df['Type 1'].isin(['Poison', 'Fire'])) & (df['Type 2'] == 'Flying')]\n",
    "        flying_poison_fire = df[(df['Type 1'] == 'Flying') & (df['Type 2'].isin(['Poison', 'Fire']))]\n",
    "\n",
    "        avg_poison_fire_flying = poison_fire_flying.groupby(['Type 1', 'Type 2'])[['Total', 'Speed']].mean()\n",
    "        avg_flying_poison_fire = flying_poison_fire.groupby(['Type 1', 'Type 2'])[['Total', 'Speed']].mean()\n",
    "\n",
    "        logging.info('Calculated average Total and Speed for specific type combinations.')\n",
    "        print(\"Average Total and Speed for Type 1 as Poison and Fire with Type 2 as Flying:\")\n",
    "        print(avg_poison_fire_flying)\n",
    "        print(\"\\nAverage Total and Speed for Type 1 as Flying with Type 2 as Poison and Fire:\")\n",
    "        print(avg_flying_poison_fire)\n",
    "\n",
    "    except FileNotFoundError:\n",
    "        logging.error('File not found. Please check the file path.')\n",
    "        print(\"File not found. Please check the file path.\")\n",
    "    except Exception as e:\n",
    "        logging.error(f'An error occurred: {e}')\n",
    "        print(f\"An error occurred: {e}\")\n",
    "\n",
    "\n",
    "analyze_pokemon_data(r\"C:\\Users\\Hp\\OneDrive\\Desktop\\internship\\Pokemon.csv\")\n"
   ]
  }
 ],
 "metadata": {
  "kernelspec": {
   "display_name": "Python 3",
   "language": "python",
   "name": "python3"
  },
  "language_info": {
   "codemirror_mode": {
    "name": "ipython",
    "version": 3
   },
   "file_extension": ".py",
   "mimetype": "text/x-python",
   "name": "python",
   "nbconvert_exporter": "python",
   "pygments_lexer": "ipython3",
   "version": "3.12.8"
  }
 },
 "nbformat": 4,
 "nbformat_minor": 2
}
