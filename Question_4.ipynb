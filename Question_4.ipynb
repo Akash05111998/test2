{
 "cells": [
  {
   "cell_type": "code",
   "execution_count": 1,
   "metadata": {},
   "outputs": [
    {
     "name": "stdout",
     "output_type": "stream",
     "text": [
      "Descriptive Statistics for Pokemon Data:\n",
      "                #      Total          HP      Attack     Defense     Sp. Atk  \\\n",
      "count  800.000000  800.00000  800.000000  800.000000  800.000000  800.000000   \n",
      "mean   362.813750  435.10250   69.258750   79.001250   73.842500   72.820000   \n",
      "std    208.343798  119.96304   25.534669   32.457366   31.183501   32.722294   \n",
      "min      1.000000  180.00000    1.000000    5.000000    5.000000   10.000000   \n",
      "25%    184.750000  330.00000   50.000000   55.000000   50.000000   49.750000   \n",
      "50%    364.500000  450.00000   65.000000   75.000000   70.000000   65.000000   \n",
      "75%    539.250000  515.00000   80.000000  100.000000   90.000000   95.000000   \n",
      "max    721.000000  780.00000  255.000000  190.000000  230.000000  194.000000   \n",
      "\n",
      "          Sp. Def       Speed  Generation  \n",
      "count  800.000000  800.000000   800.00000  \n",
      "mean    71.902500   68.277500     3.32375  \n",
      "std     27.828916   29.060474     1.66129  \n",
      "min     20.000000    5.000000     1.00000  \n",
      "25%     50.000000   45.000000     2.00000  \n",
      "50%     70.000000   65.000000     3.00000  \n",
      "75%     90.000000   90.000000     5.00000  \n",
      "max    230.000000  180.000000     6.00000  \n"
     ]
    }
   ],
   "source": [
    "import pandas as pd\n",
    "import matplotlib.pyplot as plt\n",
    "import logging\n",
    "\n",
    "\n",
    "logging.basicConfig(filename='pokemon_analysis.log', level=logging.INFO, \n",
    "                    format='%(asctime)s:%(levelname)s:%(message)s')\n",
    "\n",
    "def analyze_pokemon_data(file_path):\n",
    "    try:\n",
    "        \n",
    "        df = pd.read_csv(file_path)\n",
    "        logging.info('CSV file read successfully.')\n",
    "\n",
    "        desc_stats = df.describe()\n",
    "        logging.info('Performed descriptive statistics on Pokemon data.')\n",
    "        print(\"Descriptive Statistics for Pokemon Data:\")\n",
    "        print(desc_stats)\n",
    "    \n",
    "    \n",
    "    except FileNotFoundError:\n",
    "        logging.error('File not found. Please check the file path.')\n",
    "        print(\"File not found. Please check the file path.\")\n",
    "    except Exception as e:\n",
    "        logging.error(f'An error occurred: {e}')\n",
    "        print(f\"An error occurred: {e}\")\n",
    "        \n",
    "\n",
    "analyze_pokemon_data(r\"C:\\Users\\Hp\\OneDrive\\Desktop\\internship\\Pokemon.csv\")\n"
   ]
  }
 ],
 "metadata": {
  "kernelspec": {
   "display_name": "Python 3",
   "language": "python",
   "name": "python3"
  },
  "language_info": {
   "codemirror_mode": {
    "name": "ipython",
    "version": 3
   },
   "file_extension": ".py",
   "mimetype": "text/x-python",
   "name": "python",
   "nbconvert_exporter": "python",
   "pygments_lexer": "ipython3",
   "version": "3.12.8"
  }
 },
 "nbformat": 4,
 "nbformat_minor": 2
}
