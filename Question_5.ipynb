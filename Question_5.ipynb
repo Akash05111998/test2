{
 "cells": [
  {
   "cell_type": "code",
   "execution_count": 1,
   "metadata": {},
   "outputs": [],
   "source": [
    "import pandas as pd\n",
    "import matplotlib.pyplot as plt\n",
    "import logging\n",
    "\n",
    "\n",
    "logging.basicConfig(filename='pokemon_analysis.log', level=logging.INFO, \n",
    "                    format='%(asctime)s:%(levelname)s:%(message)s')\n",
    "\n",
    "def analyze_pokemon_data(file_path):\n",
    "    try:\n",
    "        \n",
    "        df = pd.read_csv(file_path)\n",
    "        logging.info('CSV file read successfully.')\n",
    "\n",
    "        avg_attack = df['Attack'].mean()\n",
    "        avg_defense = df['Defense'].mean()\n",
    "        filtered_df = df[(df['Total'] > 500) & (df['Attack'] > avg_attack) & (df['Defense'] > avg_defense)]\n",
    "        unique_types = filtered_df[['Type 1', 'Type 2']].drop_duplicates()\n",
    "\n",
    "        logging.info('Filtered unique Type 1 and Type 2 based on conditions.')\n",
    "        print(\"Unique Type 1 and Type 2 where total score is more than 500 and attack and defense are more than average:\")\n",
    "        print(unique_types)\n",
    "\n",
    "\n",
    "    except FileNotFoundError:\n",
    "        logging.error('File not found. Please check the file path.')\n",
    "        print(\"File not found. Please check the file path.\")\n",
    "    except Exception as e:\n",
    "        logging.error(f'An error occurred: {e}')\n",
    "        print(f\"An error occurred: {e}\")\n",
    "\n",
    "analyze_pokemon_data(r\"C:\\Users\\Hp\\OneDrive\\Desktop\\internship\\Pokemon.csv\")\n",
    "        "
   ]
  }
 ],
 "metadata": {
  "kernelspec": {
   "display_name": "Python 3",
   "language": "python",
   "name": "python3"
  },
  "language_info": {
   "codemirror_mode": {
    "name": "ipython",
    "version": 3
   },
   "file_extension": ".py",
   "mimetype": "text/x-python",
   "name": "python",
   "nbconvert_exporter": "python",
   "pygments_lexer": "ipython3",
   "version": "3.12.8"
  }
 },
 "nbformat": 4,
 "nbformat_minor": 2
}
